{
 "cells": [
  {
   "cell_type": "markdown",
   "metadata": {},
   "source": [
    "# 🔬 Visualization Mini-Lab: Trends and Outliers\n",
    "\n",
    "Now it’s time to put your skills to the test!\n",
    "In this mini-lab, you’ll explore a real dataset, create visualizations, and identify **trends and outliers**.\n",
    "\n",
    "We’ll use the famous **Penguins dataset** (thanks to Seaborn)."
   ]
  },
  {
   "cell_type": "code",
   "execution_count": null,
   "metadata": {},
   "outputs": [],
   "source": [
    "import seaborn as sns\n",
    "import matplotlib.pyplot as plt\n",
    "import pandas as pd\n",
    "\n",
    "# Load dataset\n",
    "#penguins = sns.load_dataset(\"penguins\")\n",
    "penguins = pd.read_csv(\"../../data/penguins.csv\")\n",
    "penguins.head()"
   ]
  },
  {
   "cell_type": "markdown",
   "metadata": {},
   "source": [
    "## 1. Explore Distributions\n",
    "\n",
    "First, let’s look at the distribution of **body mass**."
   ]
  },
  {
   "cell_type": "code",
   "execution_count": null,
   "metadata": {},
   "outputs": [],
   "source": [
    "sns.histplot(data=penguins, x=\"body_mass_g\", kde=True, hue=\"species\")\n",
    "plt.title(\"Distribution of Body Mass by Species\")\n",
    "plt.show()"
   ]
  },
  {
   "cell_type": "markdown",
   "metadata": {},
   "source": [
    "👉 **Task:** Do some species have higher average body mass than others?"
   ]
  },
  {
   "cell_type": "markdown",
   "metadata": {},
   "source": [
    "## 2. Relationships Between Variables\n",
    "\n",
    "Scatterplots help us see trends between two quantitative variables."
   ]
  },
  {
   "cell_type": "code",
   "execution_count": null,
   "metadata": {},
   "outputs": [],
   "source": [
    "sns.scatterplot(data=penguins, x=\"flipper_length_mm\", y=\"body_mass_g\", hue=\"species\")\n",
    "plt.title(\"Flipper Length vs Body Mass\")\n",
    "plt.show()"
   ]
  },
  {
   "cell_type": "markdown",
   "metadata": {},
   "source": [
    "👉 **Task:** Which species tends to have longer flippers AND higher body mass?"
   ]
  },
  {
   "cell_type": "markdown",
   "metadata": {},
   "source": [
    "## 3. Box Plots for Outliers\n",
    "\n",
    "Box plots are great for spotting outliers."
   ]
  },
  {
   "cell_type": "code",
   "execution_count": null,
   "metadata": {},
   "outputs": [],
   "source": [
    "sns.boxplot(data=penguins, x=\"species\", y=\"bill_length_mm\", palette=\"Set2\")\n",
    "plt.title(\"Bill Length by Species\")\n",
    "plt.show()"
   ]
  },
  {
   "cell_type": "markdown",
   "metadata": {},
   "source": [
    "👉 **Task:** Can you spot any outliers in the bill length data?"
   ]
  },
  {
   "cell_type": "markdown",
   "metadata": {},
   "source": [
    "## 4. Correlation Heatmap\n",
    "\n",
    "Correlation heatmaps let us see overall variable relationships."
   ]
  },
  {
   "cell_type": "code",
   "execution_count": null,
   "metadata": {},
   "outputs": [],
   "source": [
    "corr = penguins.dropna().corr(numeric_only=True)\n",
    "sns.heatmap(corr, annot=True, cmap=\"coolwarm\", center=0)\n",
    "plt.title(\"Correlation Heatmap\")\n",
    "plt.show()"
   ]
  },
  {
   "cell_type": "markdown",
   "metadata": {},
   "source": [
    "👉 **Task:** Which variables appear to be strongly correlated?"
   ]
  },
  {
   "cell_type": "markdown",
   "metadata": {},
   "source": [
    "## 5. Your Turn\n",
    "\n",
    "- Try a different dataset (e.g., `tips`, `iris`).\n",
    "- Create **at least 2 plots** that reveal a trend.\n",
    "- Create **1 plot** that highlights possible outliers.\n",
    "- Write a short summary of your findings.\n",
    "\n",
    "> Remember: The goal is to **use visualizations to tell a story about the data.**"
   ]
  },
  {
   "cell_type": "markdown",
   "metadata": {},
   "source": [
    "---\n",
    "✅ Congratulations! You’ve completed the visualization mini-lab and Week 07.\n",
    "\n",
    "Next module → Working with larger datasets and diving deeper into analysis."
   ]
  }
 ],
 "metadata": {
  "kernelspec": {
   "display_name": ".venv",
   "language": "python",
   "name": "python3"
  },
  "language_info": {
   "codemirror_mode": {
    "name": "ipython",
    "version": 3
   },
   "file_extension": ".py",
   "mimetype": "text/x-python",
   "name": "python",
   "nbconvert_exporter": "python",
   "pygments_lexer": "ipython3",
   "version": "3.13.7"
  }
 },
 "nbformat": 4,
 "nbformat_minor": 2
}
