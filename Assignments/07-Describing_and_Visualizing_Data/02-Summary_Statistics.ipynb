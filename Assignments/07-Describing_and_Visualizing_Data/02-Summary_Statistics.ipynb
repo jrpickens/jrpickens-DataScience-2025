{
 "cells": [
  {
   "cell_type": "markdown",
   "metadata": {},
   "source": [
    "# 📈 Summary Statistics\n",
    "\n",
    "Summary statistics help us describe a dataset with just a few numbers.\n",
    "Instead of staring at thousands of rows, we can quickly understand **center, spread, and shape**.\n",
    "\n",
    "This notebook covers:\n",
    "- Measures of central tendency (mean, median, mode)\n",
    "- Measures of spread (range, variance, standard deviation, IQR)\n",
    "- Skewness and kurtosis (just enough to impress your friends)\n",
    "- Quick summaries with Pandas\n"
   ]
  },
  {
   "cell_type": "markdown",
   "metadata": {},
   "source": [
    "## 1. Central Tendency\n",
    "\n",
    "These describe the 'middle' of the data:\n",
    "- **Mean** – average\n",
    "- **Median** – middle value\n",
    "- **Mode** – most frequent value"
   ]
  },
  {
   "cell_type": "code",
   "execution_count": 1,
   "metadata": {},
   "outputs": [
    {
     "name": "stdout",
     "output_type": "stream",
     "text": [
      "Mean: 7.6\n",
      "Median: 7.0\n",
      "Mode: 7\n"
     ]
    }
   ],
   "source": [
    "import numpy as np\n",
    "import pandas as pd\n",
    "from scipy import stats\n",
    "\n",
    "data = [5, 7, 8, 5, 10, 12, 7, 7, 6, 9]\n",
    "\n",
    "print(\"Mean:\", np.mean(data))\n",
    "print(\"Median:\", np.median(data))\n",
    "print(\"Mode:\", stats.mode(data, keepdims=True)[0][0])"
   ]
  },
  {
   "cell_type": "markdown",
   "metadata": {},
   "source": [
    "👉 **Question:** Which is more robust to outliers, the mean or the median?"
   ]
  },
  {
   "cell_type": "markdown",
   "metadata": {},
   "source": [
    "## 2. Spread\n",
    "\n",
    "Spread tells us how variable the data are.\n",
    "- **Range**: max – min\n",
    "- **Variance**: average squared deviation from the mean\n",
    "- **Standard Deviation**: square root of variance (in original units)\n",
    "- **Interquartile Range (IQR)**: middle 50% (Q3 – Q1)"
   ]
  },
  {
   "cell_type": "code",
   "execution_count": null,
   "metadata": {},
   "outputs": [],
   "source": [
    "print(\"Range:\", np.max(data) - np.min(data))\n",
    "print(\"Variance:\", np.var(data, ddof=1))\n",
    "print(\"Standard Deviation:\", np.std(data, ddof=1))\n",
    "print(\"IQR:\", stats.iqr(data))"
   ]
  },
  {
   "cell_type": "markdown",
   "metadata": {},
   "source": [
    "👉 **Exercise:** Add an extreme outlier (e.g., 100) to the dataset and see how the mean, median, and standard deviation change."
   ]
  },
  {
   "cell_type": "markdown",
   "metadata": {},
   "source": [
    "## 3. Shape: Skewness & Kurtosis\n",
    "\n",
    "- **Skewness**: measures asymmetry (left/right tail)\n",
    "- **Kurtosis**: measures 'peakedness' or heavy tails\n",
    "\n",
    "Most real-life datasets are *not* perfectly normal, so these help describe the difference."
   ]
  },
  {
   "cell_type": "code",
   "execution_count": null,
   "metadata": {},
   "outputs": [],
   "source": [
    "print(\"Skewness:\", stats.skew(data))\n",
    "print(\"Kurtosis:\", stats.kurtosis(data))"
   ]
  },
  {
   "cell_type": "markdown",
   "metadata": {},
   "source": [
    "👉 **Note:** High kurtosis means more extreme outliers; low kurtosis means flat/boring data."
   ]
  },
  {
   "cell_type": "markdown",
   "metadata": {},
   "source": [
    "## 4. Quick Summaries with Pandas\n",
    "\n",
    "Instead of writing 10 functions, Pandas does it for you with `.describe()`."
   ]
  },
  {
   "cell_type": "code",
   "execution_count": null,
   "metadata": {},
   "outputs": [],
   "source": [
    "df = pd.DataFrame({\"Values\": data})\n",
    "df.describe()"
   ]
  },
  {
   "cell_type": "markdown",
   "metadata": {},
   "source": [
    "👉 **Task:** Use `.describe()` on another dataset (e.g., `penguins` from Seaborn or your own CSV)."
   ]
  },
  {
   "cell_type": "markdown",
   "metadata": {},
   "source": [
    "---\n",
    "✅ That’s it for summary stats! Next up → [Matplotlib Basics](03-Matplotlib_Basics.ipynb)"
   ]
  }
 ],
 "metadata": {
  "kernelspec": {
   "display_name": ".venv",
   "language": "python",
   "name": "python3"
  },
  "language_info": {
   "codemirror_mode": {
    "name": "ipython",
    "version": 3
   },
   "file_extension": ".py",
   "mimetype": "text/x-python",
   "name": "python",
   "nbconvert_exporter": "python",
   "pygments_lexer": "ipython3",
   "version": "3.13.7"
  }
 },
 "nbformat": 4,
 "nbformat_minor": 2
}
