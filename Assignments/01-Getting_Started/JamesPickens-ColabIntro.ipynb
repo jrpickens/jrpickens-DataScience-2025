{
  "cells": [
    {
      "cell_type": "markdown",
      "id": "7f412148",
      "metadata": {
        "id": "7f412148"
      },
      "source": [
        "# 📘 01 - Colab Intro\n",
        "\n",
        "Welcome to your first notebook in Google Colab!"
      ]
    },
    {
      "cell_type": "markdown",
      "id": "216c53ab",
      "metadata": {
        "id": "216c53ab"
      },
      "source": [
        "## ✅ Learning Goals\n",
        "- Run cells in a notebook\n",
        "- Edit Markdown and code\n",
        "- Save a copy to your own Drive"
      ]
    },
    {
      "cell_type": "code",
      "execution_count": 1,
      "id": "f7ca3562",
      "metadata": {
        "id": "f7ca3562",
        "outputId": "9294ceff-e74e-4459-ab35-2f22cbcb56fb",
        "colab": {
          "base_uri": "https://localhost:8080/"
        }
      },
      "outputs": [
        {
          "output_type": "stream",
          "name": "stdout",
          "text": [
            "Hello, Data Science World!\n"
          ]
        }
      ],
      "source": [
        "# 👋 Try running this cell!\n",
        "print('Hello, Data Science World!')"
      ]
    },
    {
      "cell_type": "markdown",
      "id": "31151db2",
      "metadata": {
        "id": "31151db2"
      },
      "source": [
        "## ✏️ Your Turn\n",
        "Modify the code below to print your name."
      ]
    },
    {
      "cell_type": "code",
      "execution_count": 2,
      "id": "aaf79c47",
      "metadata": {
        "id": "aaf79c47",
        "outputId": "73f13412-ef7b-4efd-c309-dbcb70028f3d",
        "colab": {
          "base_uri": "https://localhost:8080/"
        }
      },
      "outputs": [
        {
          "output_type": "stream",
          "name": "stdout",
          "text": [
            "James Pickens\n"
          ]
        }
      ],
      "source": [
        "print('James Pickens')"
      ]
    },
    {
      "cell_type": "markdown",
      "id": "502b08e8",
      "metadata": {
        "id": "502b08e8"
      },
      "source": [
        "## 💾 Save a Copy\n",
        "Go to **File > Save a copy in Drive**.\n",
        "\n",
        "Rename it to include your name, e.g. `JaneDoe_ColabIntro.ipynb`."
      ]
    },
    {
      "cell_type": "markdown",
      "id": "5c6dd031",
      "metadata": {
        "id": "5c6dd031"
      },
      "source": [
        "## 📤 Submit Instructions\n",
        "- Click **Share** (top right)\n",
        "- Change link settings to: *Anyone with the link can view*\n",
        "- Add your changed .ipynb file to your github repo"
      ]
    }
  ],
  "metadata": {
    "language_info": {
      "name": "python"
    },
    "colab": {
      "provenance": []
    },
    "kernelspec": {
      "name": "python3",
      "display_name": "Python 3"
    }
  },
  "nbformat": 4,
  "nbformat_minor": 5
}